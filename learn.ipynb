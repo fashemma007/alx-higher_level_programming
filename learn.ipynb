{
 "cells": [
  {
   "cell_type": "code",
   "execution_count": 1,
   "metadata": {},
   "outputs": [
    {
     "name": "stdout",
     "output_type": "stream",
     "text": [
      "Holberton\n"
     ]
    }
   ],
   "source": [
    "if True:\n",
    "    print(\"Holberton\")\n",
    "else:\n",
    "    print(\"School\")"
   ]
  },
  {
   "cell_type": "code",
   "execution_count": 2,
   "metadata": {},
   "outputs": [
    {
     "name": "stdout",
     "output_type": "stream",
     "text": [
      "Holberton\n"
     ]
    }
   ],
   "source": [
    "if 12 == 48/4:\n",
    "    print(\"Holberton\")\n",
    "else:\n",
    "    print(\"School\")"
   ]
  },
  {
   "cell_type": "code",
   "execution_count": 3,
   "metadata": {},
   "outputs": [
    {
     "name": "stdout",
     "output_type": "stream",
     "text": [
      "School\n"
     ]
    }
   ],
   "source": [
    "if 12 == 48/4 and False:\n",
    "    print(\"Holberton\")\n",
    "else:\n",
    "    print(\"School\")"
   ]
  },
  {
   "cell_type": "markdown",
   "metadata": {},
   "source": []
  },
  {
   "cell_type": "code",
   "execution_count": 4,
   "metadata": {},
   "outputs": [
    {
     "name": "stdout",
     "output_type": "stream",
     "text": [
      "Holberton\n"
     ]
    },
    {
     "name": "stderr",
     "output_type": "stream",
     "text": [
      "<>:1: SyntaxWarning: \"is\" with a literal. Did you mean \"==\"?\n",
      "<>:1: SyntaxWarning: \"is\" with a literal. Did you mean \"==\"?\n",
      "/tmp/ipykernel_75624/907850641.py:1: SyntaxWarning: \"is\" with a literal. Did you mean \"==\"?\n",
      "  if 12 == 48/3 or 12 is 12:\n"
     ]
    }
   ],
   "source": [
    "if 12 == 48/3 or 12 is 12:\n",
    "    print(\"Holberton\")\n",
    "else:\n",
    "    print(\"School\")"
   ]
  },
  {
   "cell_type": "code",
   "execution_count": 5,
   "metadata": {},
   "outputs": [
    {
     "name": "stdout",
     "output_type": "stream",
     "text": [
      "0 1 2 3 "
     ]
    }
   ],
   "source": [
    "for i in range(4):\n",
    "    print(i, end=\" \")"
   ]
  },
  {
   "cell_type": "code",
   "execution_count": 6,
   "metadata": {},
   "outputs": [
    {
     "name": "stdout",
     "output_type": "stream",
     "text": [
      "2 3 "
     ]
    }
   ],
   "source": [
    "for i in range(2, 4):\n",
    "    print(i, end=\" \")"
   ]
  },
  {
   "cell_type": "code",
   "execution_count": 7,
   "metadata": {},
   "outputs": [
    {
     "name": "stdout",
     "output_type": "stream",
     "text": [
      "2 4 6 8 "
     ]
    }
   ],
   "source": [
    "for i in range(2, 10, 2):\n",
    "    print(i, end=\" \")"
   ]
  },
  {
   "cell_type": "code",
   "execution_count": 40,
   "metadata": {},
   "outputs": [
    {
     "name": "stdout",
     "output_type": "stream",
     "text": [
      "6193 3\n"
     ]
    }
   ],
   "source": [
    "import random\n",
    "number = random.randint(-10000, 10000)\n",
    "if number < 0:\n",
    "    numberz = number * (-1)\n",
    "    print(number,numberz%10)\n",
    "else:\n",
    "    print(number,number%10)\n"
   ]
  },
  {
   "cell_type": "code",
   "execution_count": 11,
   "metadata": {},
   "outputs": [
    {
     "data": {
      "text/plain": [
       "<function fibo.fib(n)>"
      ]
     },
     "execution_count": 11,
     "metadata": {},
     "output_type": "execute_result"
    }
   ],
   "source": [
    "import dis,fibo\n",
    "fibo.fib\n"
   ]
  },
  {
   "cell_type": "code",
   "execution_count": 12,
   "metadata": {},
   "outputs": [],
   "source": [
    "def my_func():\n",
    "    print(\"Hello\")"
   ]
  },
  {
   "cell_type": "code",
   "execution_count": 14,
   "metadata": {},
   "outputs": [
    {
     "data": {
      "text/plain": [
       "<function __main__.my_func()>"
      ]
     },
     "execution_count": 14,
     "metadata": {},
     "output_type": "execute_result"
    }
   ],
   "source": [
    "my_func"
   ]
  },
  {
   "cell_type": "code",
   "execution_count": 7,
   "metadata": {},
   "outputs": [
    {
     "name": "stdout",
     "output_type": "stream",
     "text": [
      "  3           0 LOAD_CONST               1 ((0, 1))\n",
      "              2 UNPACK_SEQUENCE          2\n",
      "              4 STORE_FAST               1 (a)\n",
      "              6 STORE_FAST               2 (b)\n",
      "\n",
      "  4     >>    8 LOAD_FAST                1 (a)\n",
      "             10 LOAD_FAST                0 (n)\n",
      "             12 COMPARE_OP               0 (<)\n",
      "             14 POP_JUMP_IF_FALSE       44\n",
      "\n",
      "  5          16 LOAD_GLOBAL              0 (print)\n",
      "             18 LOAD_FAST                1 (a)\n",
      "             20 LOAD_CONST               2 (' ')\n",
      "             22 LOAD_CONST               3 (('end',))\n",
      "             24 CALL_FUNCTION_KW         2\n",
      "             26 POP_TOP\n",
      "\n",
      "  6          28 LOAD_FAST                2 (b)\n",
      "             30 LOAD_FAST                1 (a)\n",
      "             32 LOAD_FAST                2 (b)\n",
      "             34 BINARY_ADD\n",
      "             36 ROT_TWO\n",
      "             38 STORE_FAST               1 (a)\n",
      "             40 STORE_FAST               2 (b)\n",
      "             42 JUMP_ABSOLUTE            8\n",
      "\n",
      "  7     >>   44 LOAD_GLOBAL              0 (print)\n",
      "             46 CALL_FUNCTION            0\n",
      "             48 POP_TOP\n",
      "             50 LOAD_CONST               0 (None)\n",
      "             52 RETURN_VALUE\n"
     ]
    }
   ],
   "source": [
    "dis.dis(fibo.fib)"
   ]
  },
  {
   "cell_type": "code",
   "execution_count": 20,
   "metadata": {},
   "outputs": [
    {
     "name": "stdout",
     "output_type": "stream",
     "text": [
      "4  arguments: \n",
      "1: demo.py\n",
      "2: one\n",
      "3: two\n",
      "4: three\n"
     ]
    }
   ],
   "source": [
    "# import sys\n",
    "argv = ['demo.py', 'one', 'two', 'three']\n",
    "print(len(argv),\" arguments: \")\n",
    "for items in enumerate(argv):\n",
    "    print(f\"{items[0]+1}: {items[1]}\")"
   ]
  }
 ],
 "metadata": {
  "kernelspec": {
   "display_name": "Python 3.9.12 ('base')",
   "language": "python",
   "name": "python3"
  },
  "language_info": {
   "codemirror_mode": {
    "name": "ipython",
    "version": 3
   },
   "file_extension": ".py",
   "mimetype": "text/x-python",
   "name": "python",
   "nbconvert_exporter": "python",
   "pygments_lexer": "ipython3",
   "version": "3.9.12"
  },
  "orig_nbformat": 4,
  "vscode": {
   "interpreter": {
    "hash": "531d16891cc6a4bc083d7631e4d46318a53d03379e744d6da0ddfc7f54406a35"
   }
  }
 },
 "nbformat": 4,
 "nbformat_minor": 2
}
