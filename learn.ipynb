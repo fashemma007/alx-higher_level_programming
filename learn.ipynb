{
 "cells": [
  {
   "cell_type": "code",
   "execution_count": 1,
   "metadata": {},
   "outputs": [
    {
     "name": "stdout",
     "output_type": "stream",
     "text": [
      "Holberton\n"
     ]
    }
   ],
   "source": [
    "if True:\n",
    "    print(\"Holberton\")\n",
    "else:\n",
    "    print(\"School\")"
   ]
  },
  {
   "cell_type": "code",
   "execution_count": 2,
   "metadata": {},
   "outputs": [
    {
     "name": "stdout",
     "output_type": "stream",
     "text": [
      "Holberton\n"
     ]
    }
   ],
   "source": [
    "if 12 == 48/4:\n",
    "    print(\"Holberton\")\n",
    "else:\n",
    "    print(\"School\")"
   ]
  },
  {
   "cell_type": "code",
   "execution_count": 3,
   "metadata": {},
   "outputs": [
    {
     "name": "stdout",
     "output_type": "stream",
     "text": [
      "School\n"
     ]
    }
   ],
   "source": [
    "if 12 == 48/4 and False:\n",
    "    print(\"Holberton\")\n",
    "else:\n",
    "    print(\"School\")"
   ]
  },
  {
   "cell_type": "markdown",
   "metadata": {},
   "source": []
  },
  {
   "cell_type": "code",
   "execution_count": 4,
   "metadata": {},
   "outputs": [
    {
     "name": "stdout",
     "output_type": "stream",
     "text": [
      "Holberton\n"
     ]
    },
    {
     "name": "stderr",
     "output_type": "stream",
     "text": [
      "<>:1: SyntaxWarning: \"is\" with a literal. Did you mean \"==\"?\n",
      "<>:1: SyntaxWarning: \"is\" with a literal. Did you mean \"==\"?\n",
      "/tmp/ipykernel_75624/907850641.py:1: SyntaxWarning: \"is\" with a literal. Did you mean \"==\"?\n",
      "  if 12 == 48/3 or 12 is 12:\n"
     ]
    }
   ],
   "source": [
    "if 12 == 48/3 or 12 is 12:\n",
    "    print(\"Holberton\")\n",
    "else:\n",
    "    print(\"School\")"
   ]
  },
  {
   "cell_type": "code",
   "execution_count": 5,
   "metadata": {},
   "outputs": [
    {
     "name": "stdout",
     "output_type": "stream",
     "text": [
      "0 1 2 3 "
     ]
    }
   ],
   "source": [
    "for i in range(4):\n",
    "    print(i, end=\" \")"
   ]
  },
  {
   "cell_type": "code",
   "execution_count": 6,
   "metadata": {},
   "outputs": [
    {
     "name": "stdout",
     "output_type": "stream",
     "text": [
      "2 3 "
     ]
    }
   ],
   "source": [
    "for i in range(2, 4):\n",
    "    print(i, end=\" \")"
   ]
  },
  {
   "cell_type": "code",
   "execution_count": 7,
   "metadata": {},
   "outputs": [
    {
     "name": "stdout",
     "output_type": "stream",
     "text": [
      "2 4 6 8 "
     ]
    }
   ],
   "source": [
    "for i in range(2, 10, 2):\n",
    "    print(i, end=\" \")"
   ]
  },
  {
   "cell_type": "code",
   "execution_count": 40,
   "metadata": {},
   "outputs": [
    {
     "name": "stdout",
     "output_type": "stream",
     "text": [
      "6193 3\n"
     ]
    }
   ],
   "source": [
    "import random\n",
    "number = random.randint(-10000, 10000)\n",
    "if number < 0:\n",
    "    numberz = number * (-1)\n",
    "    print(number,numberz%10)\n",
    "else:\n",
    "    print(number,number%10)\n"
   ]
  },
  {
   "cell_type": "code",
   "execution_count": 5,
   "metadata": {},
   "outputs": [
    {
     "data": {
      "text/plain": [
       "<function fibo.fib(n)>"
      ]
     },
     "execution_count": 5,
     "metadata": {},
     "output_type": "execute_result"
    }
   ],
   "source": [
    "import dis,fibo\n",
    "fibo.fib\n"
   ]
  },
  {
   "cell_type": "code",
   "execution_count": 12,
   "metadata": {},
   "outputs": [],
   "source": [
    "def my_func():\n",
    "    print(\"Hello\")"
   ]
  },
  {
   "cell_type": "code",
   "execution_count": 14,
   "metadata": {},
   "outputs": [
    {
     "data": {
      "text/plain": [
       "<function __main__.my_func()>"
      ]
     },
     "execution_count": 14,
     "metadata": {},
     "output_type": "execute_result"
    }
   ],
   "source": [
    "my_func"
   ]
  },
  {
   "cell_type": "markdown",
   "metadata": {},
   "source": [
    "```\n",
    "def fib(n):    # write Fibonacci series up to n\n",
    "    a, b = 0, 1\n",
    "    while a < n:\n",
    "        print(a, end=' ')\n",
    "        a, b = b, a+b\n",
    "    print()"
   ]
  },
  {
   "cell_type": "code",
   "execution_count": 6,
   "metadata": {},
   "outputs": [
    {
     "name": "stdout",
     "output_type": "stream",
     "text": [
      "  3           0 LOAD_CONST               1 ((0, 1))\n",
      "              2 UNPACK_SEQUENCE          2\n",
      "              4 STORE_FAST               1 (a)\n",
      "              6 STORE_FAST               2 (b)\n",
      "\n",
      "  4     >>    8 LOAD_FAST                1 (a)\n",
      "             10 LOAD_FAST                0 (n)\n",
      "             12 COMPARE_OP               0 (<)\n",
      "             14 POP_JUMP_IF_FALSE       44\n",
      "\n",
      "  5          16 LOAD_GLOBAL              0 (print)\n",
      "             18 LOAD_FAST                1 (a)\n",
      "             20 LOAD_CONST               2 (' ')\n",
      "             22 LOAD_CONST               3 (('end',))\n",
      "             24 CALL_FUNCTION_KW         2\n",
      "             26 POP_TOP\n",
      "\n",
      "  6          28 LOAD_FAST                2 (b)\n",
      "             30 LOAD_FAST                1 (a)\n",
      "             32 LOAD_FAST                2 (b)\n",
      "             34 BINARY_ADD\n",
      "             36 ROT_TWO\n",
      "             38 STORE_FAST               1 (a)\n",
      "             40 STORE_FAST               2 (b)\n",
      "             42 JUMP_ABSOLUTE            8\n",
      "\n",
      "  7     >>   44 LOAD_GLOBAL              0 (print)\n",
      "             46 CALL_FUNCTION            0\n",
      "             48 POP_TOP\n",
      "             50 LOAD_CONST               0 (None)\n",
      "             52 RETURN_VALUE\n"
     ]
    }
   ],
   "source": [
    "dis.dis(fibo.fib)"
   ]
  },
  {
   "cell_type": "code",
   "execution_count": 20,
   "metadata": {},
   "outputs": [
    {
     "name": "stdout",
     "output_type": "stream",
     "text": [
      "4  arguments: \n",
      "1: demo.py\n",
      "2: one\n",
      "3: two\n",
      "4: three\n"
     ]
    }
   ],
   "source": [
    "# import sys\n",
    "argv = ['demo.py', 'one', 'two', 'three']\n",
    "print(len(argv),\" arguments: \")\n",
    "for items in enumerate(argv):\n",
    "    print(f\"{items[0]+1}: {items[1]}\")"
   ]
  },
  {
   "cell_type": "code",
   "execution_count": 27,
   "metadata": {},
   "outputs": [
    {
     "name": "stdout",
     "output_type": "stream",
     "text": [
      "  2           0 LOAD_CONST               1 (0)\n",
      "              2 LOAD_CONST               2 (('add', 'sub'))\n",
      "              4 IMPORT_NAME              0 (magic_calculation_102)\n",
      "              6 IMPORT_FROM              1 (add)\n",
      "              8 STORE_FAST               2 (add)\n",
      "             10 IMPORT_FROM              2 (sub)\n",
      "             12 STORE_FAST               3 (sub)\n",
      "             14 POP_TOP\n",
      "\n",
      "  3          16 LOAD_FAST                0 (a)\n",
      "             18 LOAD_FAST                1 (b)\n",
      "             20 COMPARE_OP               0 (<)\n",
      "             22 POP_JUMP_IF_FALSE       64\n",
      "\n",
      "  4          24 LOAD_FAST                2 (add)\n",
      "             26 LOAD_FAST                0 (a)\n",
      "             28 LOAD_FAST                1 (b)\n",
      "             30 CALL_FUNCTION            2\n",
      "             32 STORE_FAST               4 (c)\n",
      "\n",
      "  5          34 LOAD_GLOBAL              3 (range)\n",
      "             36 LOAD_CONST               3 (4)\n",
      "             38 LOAD_CONST               4 (6)\n",
      "             40 CALL_FUNCTION            2\n",
      "             42 GET_ITER\n",
      "        >>   44 FOR_ITER                14 (to 60)\n",
      "             46 STORE_FAST               5 (i)\n",
      "\n",
      "  6          48 LOAD_FAST                2 (add)\n",
      "             50 LOAD_FAST                4 (c)\n",
      "             52 LOAD_FAST                5 (i)\n",
      "             54 CALL_FUNCTION            2\n",
      "             56 STORE_FAST               4 (c)\n",
      "             58 JUMP_ABSOLUTE           44\n",
      "\n",
      "  7     >>   60 LOAD_FAST                4 (c)\n",
      "             62 RETURN_VALUE\n",
      "\n",
      " 10     >>   64 LOAD_FAST                3 (sub)\n",
      "             66 LOAD_FAST                0 (a)\n",
      "             68 LOAD_FAST                1 (b)\n",
      "             70 CALL_FUNCTION            2\n",
      "             72 RETURN_VALUE\n",
      "             74 LOAD_CONST               0 (None)\n",
      "             76 RETURN_VALUE\n"
     ]
    }
   ],
   "source": [
    "dis.dis(magic_calculation)"
   ]
  },
  {
   "cell_type": "code",
   "execution_count": 26,
   "metadata": {},
   "outputs": [],
   "source": [
    "def magic_calculation(a, b):\n",
    "    from magic_calculation_102 import add, sub\n",
    "    if a < b:\n",
    "        c = add(a, b)\n",
    "        for i in range(4, 6):\n",
    "            c = add(c, i)\n",
    "        return (c)\n",
    "\n",
    "    else:\n",
    "        return(sub(a, b))"
   ]
  },
  {
   "cell_type": "code",
   "execution_count": null,
   "metadata": {},
   "outputs": [],
   "source": [
    "import string\n",
    "print(string.ascii_letters)\n",
    "alpha = string.ascii_letters\n",
    "for item in alpha:\n",
    "    if item != \"a\":\n",
    "        print(item)"
   ]
  },
  {
   "cell_type": "code",
   "execution_count": 53,
   "metadata": {},
   "outputs": [],
   "source": [
    "def fizzBuzz(n):\n",
    "    for m in range(10,(n+1)):\n",
    "        if m % 3 == 0 and m % 5 == 0:\n",
    "            print(\"FizzBuzz\")\n",
    "        elif m % 3 == 0:\n",
    "            print(\"Fizz\")\n",
    "        elif m % 5 == 0:\n",
    "            print(\"Buzz\")\n",
    "        else:\n",
    "            print(f\"{m:d}\")"
   ]
  },
  {
   "cell_type": "code",
   "execution_count": 67,
   "metadata": {},
   "outputs": [],
   "source": [
    "teamA = [1, 4, 2, 4]\n",
    "teamB = [3, 5]"
   ]
  },
  {
   "cell_type": "code",
   "execution_count": 96,
   "metadata": {},
   "outputs": [],
   "source": [
    "def counts(teamA, teamB):\n",
    "    dicts = {}\n",
    "    for i in teamB:\n",
    "        count = 0\n",
    "        for a in teamA:\n",
    "            if a <= i:\n",
    "                count+=1\n",
    "        dicts[i] = count\n",
    "    # print(dicts)\n",
    "    lst=[]\n",
    "    for vals in dicts:\n",
    "        lst.append(dicts[vals])\n",
    "    return lst"
   ]
  },
  {
   "cell_type": "code",
   "execution_count": 97,
   "metadata": {},
   "outputs": [
    {
     "data": {
      "text/plain": [
       "[1, 0, 3, 4]"
      ]
     },
     "execution_count": 97,
     "metadata": {},
     "output_type": "execute_result"
    }
   ],
   "source": []
  },
  {
   "cell_type": "code",
   "execution_count": 88,
   "metadata": {},
   "outputs": [],
   "source": [
    "teamA = [2, 10, 5, 4, 8]\n",
    "teamB = [3, 1, 7, 8]"
   ]
  },
  {
   "cell_type": "code",
   "execution_count": 110,
   "metadata": {},
   "outputs": [],
   "source": [
    "def isPalindrome( x: int) -> bool:\n",
    "    val = str(x)\n",
    "    return val == val[::-1]"
   ]
  },
  {
   "cell_type": "code",
   "execution_count": 111,
   "metadata": {},
   "outputs": [
    {
     "data": {
      "text/plain": [
       "False"
      ]
     },
     "execution_count": 111,
     "metadata": {},
     "output_type": "execute_result"
    }
   ],
   "source": [
    "isPalindrome(123456789876543210)"
   ]
  },
  {
   "cell_type": "code",
   "execution_count": 112,
   "metadata": {},
   "outputs": [
    {
     "name": "stdout",
     "output_type": "stream",
     "text": [
      "1\n",
      "2\n",
      "3\n",
      "4\n",
      "5\n"
     ]
    }
   ],
   "source": [
    "def print_list_integer(my_list=[]):\n",
    "    for integer in my_list:\n",
    "        print(integer)\n",
    "\n",
    "my_list = [1, 2, 3, 4, 5]\n",
    "print_list_integer(my_list)"
   ]
  },
  {
   "cell_type": "code",
   "execution_count": 149,
   "metadata": {},
   "outputs": [],
   "source": [
    "def romanToInt(s: str) -> int:\n",
    "    rom_int = {\n",
    "        \"I\":1,\n",
    "        \"V\":5,\n",
    "        \"X\":10,\n",
    "        \"L\":50,\n",
    "        \"C\":100,\n",
    "        \"D\":500,\n",
    "        \"M\":1000\n",
    "        }\n",
    "    sum = 0\n",
    "    for i in range(len(s)):\n",
    "        print(s[i])\n",
    "        if  rom_int[s[i-1]] > rom_int[s[i]]:\n",
    "            sum += rom_int[s[i]]\n",
    "        else:\n",
    "            sum -= rom_int[s[i]]\n",
    "\n",
    "    # return(sum)"
   ]
  },
  {
   "cell_type": "code",
   "execution_count": 150,
   "metadata": {},
   "outputs": [
    {
     "name": "stdout",
     "output_type": "stream",
     "text": [
      "M\n",
      "V\n",
      "I\n",
      "I\n"
     ]
    }
   ],
   "source": [
    "s = \"MVII\"\n",
    "romanToInt(s)"
   ]
  },
  {
   "cell_type": "code",
   "execution_count": 1,
   "metadata": {},
   "outputs": [],
   "source": [
    "def print_reversed_list_integer(my_list=[]):\n",
    "    for i in my_list[::-1]:\n",
    "        print(i)\n"
   ]
  },
  {
   "cell_type": "code",
   "execution_count": 2,
   "metadata": {},
   "outputs": [
    {
     "name": "stdout",
     "output_type": "stream",
     "text": [
      "5\n",
      "4\n",
      "3\n",
      "2\n",
      "1\n"
     ]
    }
   ],
   "source": [
    "my_list = [1, 2, 3, 4, 5]\n",
    "print_reversed_list_integer(my_list)"
   ]
  },
  {
   "cell_type": "code",
   "execution_count": 3,
   "metadata": {},
   "outputs": [],
   "source": [
    "my_list = [1, 2, 3, 4, 5]\n",
    "new_list = my_list.copy()"
   ]
  },
  {
   "cell_type": "code",
   "execution_count": 5,
   "metadata": {},
   "outputs": [],
   "source": [
    "new_list.append(23)"
   ]
  },
  {
   "cell_type": "code",
   "execution_count": 7,
   "metadata": {},
   "outputs": [
    {
     "data": {
      "text/plain": [
       "[1, 2, 3, 4, 5]"
      ]
     },
     "execution_count": 7,
     "metadata": {},
     "output_type": "execute_result"
    }
   ],
   "source": [
    "my_list"
   ]
  },
  {
   "cell_type": "code",
   "execution_count": 30,
   "metadata": {},
   "outputs": [],
   "source": [
    "my_string = \"Welcome to school Collins\"\n",
    "\n",
    "# my_string.index('c')"
   ]
  },
  {
   "cell_type": "code",
   "execution_count": 31,
   "metadata": {},
   "outputs": [],
   "source": [
    "def no_c(my_string):\n",
    "    new_str=\"\"\n",
    "    for char in my_string:\n",
    "        if char != 'c' and char != 'C':\n",
    "            new_str += char \n",
    "    return new_str"
   ]
  },
  {
   "cell_type": "code",
   "execution_count": 34,
   "metadata": {},
   "outputs": [
    {
     "data": {
      "text/plain": [
       "[[1, 2, 3], [4, 5, 6], [7, 8, 9]]"
      ]
     },
     "execution_count": 34,
     "metadata": {},
     "output_type": "execute_result"
    }
   ],
   "source": [
    "matrix = [\n",
    "    [1, 2, 3],\n",
    "    [4, 5, 6],\n",
    "    [7, 8, 9]\n",
    "]\n",
    "matrix"
   ]
  },
  {
   "cell_type": "code",
   "execution_count": 38,
   "metadata": {},
   "outputs": [
    {
     "name": "stdout",
     "output_type": "stream",
     "text": [
      "1 2 3 \n",
      "4 5 6 \n",
      "7 8 9 \n"
     ]
    }
   ],
   "source": [
    "for items in matrix:\n",
    "    for mat in items:\n",
    "        print(mat,end=\" \")\n",
    "    print(\"\")"
   ]
  },
  {
   "cell_type": "code",
   "execution_count": 39,
   "metadata": {},
   "outputs": [],
   "source": [
    "tuple_a = (1, 89)\n",
    "tuple_b = (88, 11)"
   ]
  },
  {
   "cell_type": "code",
   "execution_count": 42,
   "metadata": {},
   "outputs": [],
   "source": [
    "if len(tuple_a) < 2:\n",
    "    tuple_a.append(0)\n",
    "if len(tuple_b) < 2:\n",
    "    tuple_b.append(0)\n",
    "tup_add = []\n",
    "for i in range(len(tuple_a)):\n",
    "    tup_add.append(tuple_a[i] + tuple_b[i])\n",
    "# return tuple(tup_add)"
   ]
  },
  {
   "cell_type": "code",
   "execution_count": 43,
   "metadata": {},
   "outputs": [
    {
     "data": {
      "text/plain": [
       "[89, 100]"
      ]
     },
     "execution_count": 43,
     "metadata": {},
     "output_type": "execute_result"
    }
   ],
   "source": [
    "tup_add"
   ]
  },
  {
   "cell_type": "code",
   "execution_count": 45,
   "metadata": {},
   "outputs": [],
   "source": [
    "tuple_a += (0,)"
   ]
  },
  {
   "cell_type": "code",
   "execution_count": 47,
   "metadata": {},
   "outputs": [],
   "source": [
    "my_list = [0, 1, 2, 3, 4, 5, 6]\n",
    "bool_list = []\n",
    "for item in my_list:\n",
    "    if item % 2 == 0:\n",
    "        bool_list.append(True)\n",
    "    else:\n",
    "        bool_list.append(False)"
   ]
  },
  {
   "cell_type": "code",
   "execution_count": 48,
   "metadata": {},
   "outputs": [
    {
     "data": {
      "text/plain": [
       "[True, False, True, False, True, False, True]"
      ]
     },
     "execution_count": 48,
     "metadata": {},
     "output_type": "execute_result"
    }
   ],
   "source": [
    "bool_list"
   ]
  }
 ],
 "metadata": {
  "kernelspec": {
   "display_name": "Python 3.9.12 ('base')",
   "language": "python",
   "name": "python3"
  },
  "language_info": {
   "codemirror_mode": {
    "name": "ipython",
    "version": 3
   },
   "file_extension": ".py",
   "mimetype": "text/x-python",
   "name": "python",
   "nbconvert_exporter": "python",
   "pygments_lexer": "ipython3",
   "version": "3.9.12"
  },
  "orig_nbformat": 4,
  "vscode": {
   "interpreter": {
    "hash": "531d16891cc6a4bc083d7631e4d46318a53d03379e744d6da0ddfc7f54406a35"
   }
  }
 },
 "nbformat": 4,
 "nbformat_minor": 2
}
