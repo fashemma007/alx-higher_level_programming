{
 "cells": [
  {
   "cell_type": "code",
   "execution_count": null,
   "metadata": {},
   "outputs": [],
   "source": [
    "if True:\n",
    "    print(\"Holberton\")\n",
    "else:\n",
    "    print(\"School\")"
   ]
  },
  {
   "cell_type": "code",
   "execution_count": null,
   "metadata": {},
   "outputs": [],
   "source": [
    "if 12 == 48/4:\n",
    "    print(\"Holberton\")\n",
    "else:\n",
    "    print(\"School\")"
   ]
  },
  {
   "cell_type": "code",
   "execution_count": null,
   "metadata": {},
   "outputs": [],
   "source": [
    "if 12 == 48/4 and False:\n",
    "    print(\"Holberton\")\n",
    "else:\n",
    "    print(\"School\")"
   ]
  },
  {
   "cell_type": "markdown",
   "metadata": {},
   "source": []
  },
  {
   "cell_type": "code",
   "execution_count": null,
   "metadata": {},
   "outputs": [],
   "source": [
    "if 12 == 48/3 or 12 is 12:\n",
    "    print(\"Holberton\")\n",
    "else:\n",
    "    print(\"School\")"
   ]
  },
  {
   "cell_type": "code",
   "execution_count": null,
   "metadata": {},
   "outputs": [],
   "source": [
    "for i in range(4):\n",
    "    print(i, end=\" \")"
   ]
  },
  {
   "cell_type": "code",
   "execution_count": null,
   "metadata": {},
   "outputs": [],
   "source": [
    "for i in range(2, 4):\n",
    "    print(i, end=\" \")"
   ]
  },
  {
   "cell_type": "code",
   "execution_count": null,
   "metadata": {},
   "outputs": [],
   "source": [
    "for i in range(2, 10, 2):\n",
    "    print(i, end=\" \")"
   ]
  },
  {
   "cell_type": "code",
   "execution_count": null,
   "metadata": {},
   "outputs": [],
   "source": [
    "import random\n",
    "number = random.randint(-10000, 10000)\n",
    "if number < 0:\n",
    "    numberz = number * (-1)\n",
    "    print(number,numberz%10)\n",
    "else:\n",
    "    print(number,number%10)\n"
   ]
  },
  {
   "cell_type": "code",
   "execution_count": null,
   "metadata": {},
   "outputs": [],
   "source": [
    "import dis,fibo\n",
    "fibo.fib\n"
   ]
  },
  {
   "cell_type": "code",
   "execution_count": null,
   "metadata": {},
   "outputs": [],
   "source": [
    "def my_func():\n",
    "    print(\"Hello\")"
   ]
  },
  {
   "cell_type": "code",
   "execution_count": null,
   "metadata": {},
   "outputs": [],
   "source": [
    "my_func"
   ]
  },
  {
   "cell_type": "markdown",
   "metadata": {},
   "source": [
    "```\n",
    "def fib(n):    # write Fibonacci series up to n\n",
    "    a, b = 0, 1\n",
    "    while a < n:\n",
    "        print(a, end=' ')\n",
    "        a, b = b, a+b\n",
    "    print()"
   ]
  },
  {
   "cell_type": "code",
   "execution_count": null,
   "metadata": {},
   "outputs": [],
   "source": [
    "dis.dis(fibo.fib)"
   ]
  },
  {
   "cell_type": "code",
   "execution_count": null,
   "metadata": {},
   "outputs": [],
   "source": [
    "# import sys\n",
    "argv = ['demo.py', 'one', 'two', 'three']\n",
    "print(len(argv),\" arguments: \")\n",
    "for items in enumerate(argv):\n",
    "    print(f\"{items[0]+1}: {items[1]}\")"
   ]
  },
  {
   "cell_type": "code",
   "execution_count": null,
   "metadata": {},
   "outputs": [],
   "source": [
    "dis.dis(magic_calculation)"
   ]
  },
  {
   "cell_type": "code",
   "execution_count": null,
   "metadata": {},
   "outputs": [],
   "source": [
    "def magic_calculation(a, b):\n",
    "    from magic_calculation_102 import add, sub\n",
    "    if a < b:\n",
    "        c = add(a, b)\n",
    "        for i in range(4, 6):\n",
    "            c = add(c, i)\n",
    "        return (c)\n",
    "\n",
    "    else:\n",
    "        return(sub(a, b))"
   ]
  },
  {
   "cell_type": "code",
   "execution_count": null,
   "metadata": {},
   "outputs": [],
   "source": [
    "import string\n",
    "print(string.ascii_letters)\n",
    "alpha = string.ascii_letters\n",
    "for item in alpha:\n",
    "    if item != \"a\":\n",
    "        print(item)"
   ]
  },
  {
   "cell_type": "code",
   "execution_count": null,
   "metadata": {},
   "outputs": [],
   "source": [
    "def fizzBuzz(n):\n",
    "    for m in range(10,(n+1)):\n",
    "        if m % 3 == 0 and m % 5 == 0:\n",
    "            print(\"FizzBuzz\")\n",
    "        elif m % 3 == 0:\n",
    "            print(\"Fizz\")\n",
    "        elif m % 5 == 0:\n",
    "            print(\"Buzz\")\n",
    "        else:\n",
    "            print(f\"{m:d}\")"
   ]
  },
  {
   "cell_type": "code",
   "execution_count": null,
   "metadata": {},
   "outputs": [],
   "source": [
    "teamA = [1, 4, 2, 4]\n",
    "teamB = [3, 5]"
   ]
  },
  {
   "cell_type": "code",
   "execution_count": null,
   "metadata": {},
   "outputs": [],
   "source": [
    "def counts(teamA, teamB):\n",
    "    dicts = {}\n",
    "    for i in teamB:\n",
    "        count = 0\n",
    "        for a in teamA:\n",
    "            if a <= i:\n",
    "                count+=1\n",
    "        dicts[i] = count\n",
    "    # print(dicts)\n",
    "    lst=[]\n",
    "    for vals in dicts:\n",
    "        lst.append(dicts[vals])\n",
    "    return lst"
   ]
  },
  {
   "cell_type": "code",
   "execution_count": null,
   "metadata": {},
   "outputs": [],
   "source": []
  },
  {
   "cell_type": "code",
   "execution_count": null,
   "metadata": {},
   "outputs": [],
   "source": [
    "teamA = [2, 10, 5, 4, 8]\n",
    "teamB = [3, 1, 7, 8]"
   ]
  },
  {
   "cell_type": "code",
   "execution_count": null,
   "metadata": {},
   "outputs": [],
   "source": [
    "def isPalindrome( x: int) -> bool:\n",
    "    val = str(x)\n",
    "    return val == val[::-1]"
   ]
  },
  {
   "cell_type": "code",
   "execution_count": null,
   "metadata": {},
   "outputs": [],
   "source": [
    "isPalindrome(123456789876543210)"
   ]
  },
  {
   "cell_type": "code",
   "execution_count": null,
   "metadata": {},
   "outputs": [],
   "source": [
    "def print_list_integer(my_list=[]):\n",
    "    for integer in my_list:\n",
    "        print(integer)\n",
    "\n",
    "my_list = [1, 2, 3, 4, 5]\n",
    "print_list_integer(my_list)"
   ]
  },
  {
   "cell_type": "code",
   "execution_count": null,
   "metadata": {},
   "outputs": [],
   "source": [
    "def romanToInt(s: str) -> int:\n",
    "    rom_int = {\n",
    "        \"I\":1,\n",
    "        \"V\":5,\n",
    "        \"X\":10,\n",
    "        \"L\":50,\n",
    "        \"C\":100,\n",
    "        \"D\":500,\n",
    "        \"M\":1000\n",
    "        }\n",
    "    sum = 0\n",
    "    for i in range(len(s)):\n",
    "        print(s[i])\n",
    "        if  rom_int[s[i-1]] > rom_int[s[i]]:\n",
    "            sum += rom_int[s[i]]\n",
    "        else:\n",
    "            sum -= rom_int[s[i]]\n",
    "\n",
    "    # return(sum)"
   ]
  },
  {
   "cell_type": "code",
   "execution_count": null,
   "metadata": {},
   "outputs": [],
   "source": [
    "s = \"MVII\"\n",
    "romanToInt(s)"
   ]
  },
  {
   "cell_type": "code",
   "execution_count": null,
   "metadata": {},
   "outputs": [],
   "source": [
    "def print_reversed_list_integer(my_list=[]):\n",
    "    for i in my_list[::-1]:\n",
    "        print(i)\n"
   ]
  },
  {
   "cell_type": "code",
   "execution_count": null,
   "metadata": {},
   "outputs": [],
   "source": [
    "my_list = [1, 2, 3, 4, 5]\n",
    "print_reversed_list_integer(my_list)"
   ]
  },
  {
   "cell_type": "code",
   "execution_count": null,
   "metadata": {},
   "outputs": [],
   "source": [
    "my_list = [1, 2, 3, 4, 5]\n",
    "new_list = my_list.copy()"
   ]
  },
  {
   "cell_type": "code",
   "execution_count": null,
   "metadata": {},
   "outputs": [],
   "source": [
    "new_list.append(23)"
   ]
  },
  {
   "cell_type": "code",
   "execution_count": null,
   "metadata": {},
   "outputs": [],
   "source": [
    "my_list"
   ]
  },
  {
   "cell_type": "code",
   "execution_count": null,
   "metadata": {},
   "outputs": [],
   "source": [
    "my_string = \"Welcome to school Collins\"\n",
    "\n",
    "# my_string.index('c')"
   ]
  },
  {
   "cell_type": "code",
   "execution_count": null,
   "metadata": {},
   "outputs": [],
   "source": [
    "def no_c(my_string):\n",
    "    new_str=\"\"\n",
    "    for char in my_string:\n",
    "        if char != 'c' and char != 'C':\n",
    "            new_str += char \n",
    "    return new_str"
   ]
  },
  {
   "cell_type": "code",
   "execution_count": null,
   "metadata": {},
   "outputs": [],
   "source": [
    "matrix = [\n",
    "    [1, 2, 3],\n",
    "    [4, 5, 6],\n",
    "    [7, 8, 9]\n",
    "]\n",
    "matrix"
   ]
  },
  {
   "cell_type": "code",
   "execution_count": null,
   "metadata": {},
   "outputs": [],
   "source": [
    "for items in matrix:\n",
    "    for mat in items:\n",
    "        print(mat,end=\" \")\n",
    "    print(\"\")"
   ]
  },
  {
   "cell_type": "code",
   "execution_count": null,
   "metadata": {},
   "outputs": [],
   "source": [
    "tuple_a = (1, 89)\n",
    "tuple_b = (88, 11)"
   ]
  },
  {
   "cell_type": "code",
   "execution_count": null,
   "metadata": {},
   "outputs": [],
   "source": [
    "if len(tuple_a) < 2:\n",
    "    tuple_a.append(0)\n",
    "if len(tuple_b) < 2:\n",
    "    tuple_b.append(0)\n",
    "tup_add = []\n",
    "for i in range(len(tuple_a)):\n",
    "    tup_add.append(tuple_a[i] + tuple_b[i])\n",
    "# return tuple(tup_add)"
   ]
  },
  {
   "cell_type": "code",
   "execution_count": null,
   "metadata": {},
   "outputs": [],
   "source": [
    "tup_add"
   ]
  },
  {
   "cell_type": "code",
   "execution_count": null,
   "metadata": {},
   "outputs": [],
   "source": [
    "tuple_a += (0,)"
   ]
  },
  {
   "cell_type": "code",
   "execution_count": null,
   "metadata": {},
   "outputs": [],
   "source": [
    "my_list = [0, 1, 2, 3, 4, 5, 6]\n",
    "bool_list = []\n",
    "for item in my_list:\n",
    "    if item % 2 == 0:\n",
    "        bool_list.append(True)\n",
    "    else:\n",
    "        bool_list.append(False)"
   ]
  },
  {
   "cell_type": "markdown",
   "metadata": {},
   "source": [
    "##### Errors and Exceptions"
   ]
  },
  {
   "cell_type": "code",
   "execution_count": 10,
   "metadata": {},
   "outputs": [
    {
     "name": "stdout",
     "output_type": "stream",
     "text": [
      "There is a syntax error in your code\n",
      "division by zero\n"
     ]
    }
   ],
   "source": [
    "try:\n",
    "    10 * (1/0)\n",
    "except ZeroDivisionError as syn:\n",
    "    print(f\"There is a syntax error in your code\\n{syn}\")"
   ]
  },
  {
   "cell_type": "code",
   "execution_count": 35,
   "metadata": {},
   "outputs": [],
   "source": [
    "my_list = [0, 1, 2, 3, 4, 5, 6,\"fish\"]\n",
    "def safe_print_list(my_list=[], x=0):\n",
    "    count = 0\n",
    "    for i in range(x):\n",
    "        try:\n",
    "            print(f\"{my_list[i]}\",end='')#print each element at index i\n",
    "            count += 1#keeping count of items in my_list\n",
    "        except IndexError:#catch errors relating to list indexing\n",
    "            break\n",
    "    print(\"\")#to add a new line\n",
    "    return (count)\n"
   ]
  },
  {
   "cell_type": "code",
   "execution_count": 43,
   "metadata": {},
   "outputs": [],
   "source": [
    "def safe_print_integer(value):\n",
    "    try:\n",
    "        print(\"{:d}\".format(value))\n",
    "        return(True)\n",
    "    except ValueError:\n",
    "        return(False)"
   ]
  },
  {
   "cell_type": "code",
   "execution_count": 87,
   "metadata": {},
   "outputs": [],
   "source": [
    "my_list = [0, 1, 2, 3,\"fish\", 4, 5, 6]\n",
    "def safe_print_list_integers(my_list=[], x=0):\n",
    "    counts = 0\n",
    "    for i in range(x):\n",
    "        try:\n",
    "            print(\"{:d}\".format(my_list[i]), end=\"\")\n",
    "            counts += 1\n",
    "        except (ValueError, TypeError):\n",
    "            pass\n",
    "    print(\"\")\n",
    "    return (counts)"
   ]
  },
  {
   "cell_type": "code",
   "execution_count": 111,
   "metadata": {},
   "outputs": [],
   "source": [
    "def safe_print_division(a, b):\n",
    "    try:\n",
    "        value = a / b\n",
    "    except (ZeroDivisionError,TypeError):\n",
    "        value = None\n",
    "    finally:\n",
    "        print(\"Inside result: {}\".format(value))\n",
    "    return (value)"
   ]
  },
  {
   "cell_type": "code",
   "execution_count": 115,
   "metadata": {},
   "outputs": [],
   "source": [
    "def list_division(my_list_1, my_list_2, list_length):\n",
    "    result = []\n",
    "    for i in range(list_length):\n",
    "        try:\n",
    "            val = my_list_1[i] / my_list_2[i]\n",
    "        except ZeroDivisionError:\n",
    "            print(\"division by 0\")\n",
    "            val  = 0\n",
    "        except IndexError:\n",
    "            print(\"out of range\")\n",
    "            val  = 0\n",
    "        except TypeError:\n",
    "            print(\"wrong type\")\n",
    "            val  = 0\n",
    "        finally:\n",
    "            result.append(val)\n",
    "    return result\n"
   ]
  },
  {
   "cell_type": "code",
   "execution_count": 118,
   "metadata": {},
   "outputs": [],
   "source": [
    "def raise_exception():\n",
    "    raise TypeError"
   ]
  },
  {
   "cell_type": "code",
   "execution_count": 133,
   "metadata": {},
   "outputs": [
    {
     "name": "stdout",
     "output_type": "stream",
     "text": [
      "C is not fun\n"
     ]
    }
   ],
   "source": [
    "def raise_exception_msg(message=\"\"):\n",
    "    raise NameError(message)\n",
    "\n",
    "try:\n",
    "    raise_exception_msg(\"C is not fun\")\n",
    "except NameError as ne:\n",
    "    print(ne)"
   ]
  },
  {
   "cell_type": "code",
   "execution_count": 147,
   "metadata": {},
   "outputs": [],
   "source": [
    "#!/usr/bin/python3\n",
    "import sys\n",
    "\n",
    "\n",
    "def safe_print_integer_err(value):\n",
    "    try:\n",
    "        print(\"{:d}\".format(value))\n",
    "        return (True)\n",
    "    except (TypeError, ValueError):\n",
    "        print(\"Exception: {}\".format(sys.exc_info()[1]), file=sys.stderr)\n",
    "        return (False)"
   ]
  },
  {
   "cell_type": "code",
   "execution_count": 150,
   "metadata": {},
   "outputs": [
    {
     "name": "stdout",
     "output_type": "stream",
     "text": [
      "89\n",
      "-89\n",
      "School is not an integer\n"
     ]
    },
    {
     "name": "stderr",
     "output_type": "stream",
     "text": [
      "Exception: Unknown format code 'd' for object of type 'str'\n"
     ]
    }
   ],
   "source": [
    "value = 89\n",
    "has_been_print = safe_print_integer_err(value)\n",
    "if not has_been_print:\n",
    "    print(\"{} is not an integer\".format(value))\n",
    "\n",
    "value = -89\n",
    "has_been_print = safe_print_integer_err(value)\n",
    "if not has_been_print:\n",
    "    print(\"{} is not an integer\".format(value))\n",
    "\n",
    "value = \"School\"\n",
    "has_been_print = safe_print_integer_err(value)\n",
    "if not has_been_print:\n",
    "    print(\"{} is not an integer\".format(value))"
   ]
  },
  {
   "cell_type": "code",
   "execution_count": 151,
   "metadata": {},
   "outputs": [],
   "source": [
    "#!/usr/bin/python3\n",
    "\n",
    "import sys\n",
    "\n",
    "\n",
    "def safe_function(fct, *args):\n",
    "    try:\n",
    "        result = fct(*args)\n",
    "        return (result)\n",
    "    except:\n",
    "        print(\"Exception: {}\".format(sys.exc_info()[1]), file=sys.stderr)\n",
    "        return (None)"
   ]
  },
  {
   "cell_type": "code",
   "execution_count": 152,
   "metadata": {},
   "outputs": [
    {
     "name": "stdout",
     "output_type": "stream",
     "text": [
      "result of my_div: 5.0\n",
      "result of my_div: None\n",
      "1\n",
      "2\n",
      "3\n",
      "4\n",
      "result of print_list: None\n"
     ]
    },
    {
     "name": "stderr",
     "output_type": "stream",
     "text": [
      "Exception: division by zero\n",
      "Exception: list index out of range\n"
     ]
    }
   ],
   "source": [
    "def my_div(a, b):\n",
    "    return a / b\n",
    "\n",
    "result = safe_function(my_div, 10, 2)\n",
    "print(\"result of my_div: {}\".format(result))\n",
    "\n",
    "result = safe_function(my_div, 10, 0)\n",
    "print(\"result of my_div: {}\".format(result))\n",
    "\n",
    "\n",
    "def print_list(my_list, len):\n",
    "    i = 0\n",
    "    while i < len:\n",
    "        print(my_list[i])\n",
    "        i += 1\n",
    "    return len\n",
    "\n",
    "result = safe_function(print_list, [1, 2, 3, 4], 10)\n",
    "print(\"result of print_list: {}\".format(result))"
   ]
  },
  {
   "cell_type": "markdown",
   "metadata": {},
   "source": [
    "#### 0x06. Python - Classes and Objects\n"
   ]
  },
  {
   "cell_type": "code",
   "execution_count": 88,
   "metadata": {},
   "outputs": [
    {
     "name": "stdout",
     "output_type": "stream",
     "text": [
      "Area: 9\n",
      "'Square' object has no attribute 'size'\n",
      "'Square' object has no attribute '__size'\n",
      "Area: 25\n"
     ]
    }
   ],
   "source": [
    "class Square():\n",
    "    def __init__(self, size=0):\n",
    "        self.__size = size\n",
    "        if type(size) != int:\n",
    "            raise TypeError(\"size must be an integer\")\n",
    "        if size < 0:\n",
    "            raise ValueError(\"size must be >= 0\")\n",
    "    def area(self):\n",
    "        return (self.__size ** 2)\n",
    "\n",
    "\n",
    "\n",
    "my_square_1 = Square(3)\n",
    "print(\"Area: {}\".format(my_square_1.area()))\n",
    "\n",
    "try:\n",
    "    print(my_square_1.size)\n",
    "except Exception as e:\n",
    "    print(e)\n",
    "\n",
    "try:\n",
    "    print(my_square_1.__size)\n",
    "except Exception as e:\n",
    "    print(e)\n",
    "my_square_2 = Square(5)\n",
    "print(\"Area: {}\".format(my_square_2.area()))"
   ]
  },
  {
   "cell_type": "code",
   "execution_count": 79,
   "metadata": {},
   "outputs": [
    {
     "data": {
      "text/plain": [
       "'/home/imitor/Documents/git_repos/ALX_FSE/alx-higher_level_programming'"
      ]
     },
     "execution_count": 79,
     "metadata": {},
     "output_type": "execute_result"
    }
   ],
   "source": [
    "pwd"
   ]
  },
  {
   "cell_type": "code",
   "execution_count": null,
   "metadata": {},
   "outputs": [],
   "source": []
  }
 ],
 "metadata": {
  "kernelspec": {
   "display_name": "Python 3.9.12 ('base')",
   "language": "python",
   "name": "python3"
  },
  "language_info": {
   "codemirror_mode": {
    "name": "ipython",
    "version": 3
   },
   "file_extension": ".py",
   "mimetype": "text/x-python",
   "name": "python",
   "nbconvert_exporter": "python",
   "pygments_lexer": "ipython3",
   "version": "3.9.12"
  },
  "orig_nbformat": 4,
  "vscode": {
   "interpreter": {
    "hash": "531d16891cc6a4bc083d7631e4d46318a53d03379e744d6da0ddfc7f54406a35"
   }
  }
 },
 "nbformat": 4,
 "nbformat_minor": 2
}
